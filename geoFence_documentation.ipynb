{
 "cells": [
  {
   "cell_type": "markdown",
   "metadata": {},
   "source": [
    "# An Introduction to GeoFence Model\n",
    "_**GeoFence model helps determines workers who are at a work site, if they are in high consequence areas, how long employees or equipment were within the geo fenced work site, and what activities or movements occurred.**_\n",
    "\n",
    "1. [Introduction](#1.-Introduction)\n",
    "2. [Preparing JSON](#2.-Preparing-JSON)\n",
    "3. [Method - 1 Using Endpoint](#3.-Using-Endpoint)<br>\n",
    "    3.1. [Creating model](#3.1.-Creating-Model)<br>\n",
    "    3.2. [Creating endpoint config](#3.2.-Creating-Endpoint-Config)<br>\n",
    "    3.3. [Creating endpoint](#3.3.-Creating-Endpoint)<br>\n",
    "    3.2. [Invoking endpoint](#3.4.-Invoking-Endpoint)<br>\n",
    "    3.2. [Deleting the Endpoint - Optional](#3.5.-Deleting-the-Endpoint---Optional)\n",
    "4. [Method - 2 Using batch transform job](#4.-Using-Batch-Transform-Job)\n",
    "5. [Model Output](#5.-Model-Output)\n"
   ]
  },
  {
   "cell_type": "markdown",
   "metadata": {},
   "source": [
    " "
   ]
  },
  {
   "cell_type": "markdown",
   "metadata": {},
   "source": [
    "## 1. Introduction\n",
    "Geo Fencing Model informs an organization of employee and equipment location and the activities and movements within that location.Jump start your ability to understand worksite risk using the Modjoul Geo Fence Model. Geo fencing uses GPS to establish a digital boundary around a work site to keep employees safe. Understand which workers enter into a work site and understand when employees are in high consequence areas. The Geo Fence Model provides output in JSON Format.Useful outputs of duration and counts of employee and equipment within the geo fenced location. Geofences can be Circles or Polygons."
   ]
  },
  {
   "cell_type": "markdown",
   "metadata": {},
   "source": [
    " "
   ]
  },
  {
   "cell_type": "markdown",
   "metadata": {},
   "source": [
    "## 2. Preparing JSON\n",
    "Prepare a Json file that should and must contain input **latitude and longitude** values and at least one geofence.<br>\n",
    "The Geofence should be either a Ring or Polygon type. <br>\n",
    "For a Ring geofence **center and radius** are must.\n",
    "For a Polygon geofence **vertices** of the polygon are must, there should be minimum of **3** points.<br>\n",
    "\n",
    "GeoFence should be in the below mentioned format :\n",
    "<font color=\"blue\">_** Ring : [\"geoFenceName\", \"Ring/RING/ring\", [x,y(center)],Radius ] <br>\n",
    "\tPolygon : [\"GeoFenceName\", \"polygon/Polygon/POLYGON\",[[x,y],[x,y],[x,y],[x,y]....(vertices)]**_</font> <br>\n",
    "<font color=\"red\">_**Each data point is considered at second level i.e, 60 rows = 1 minute worth data**_</font><br>\n",
    "\n",
    "**If the input latitude longitude values are contained in a CSV file, use the below code snippet to prepare the input JSON file**\n",
    "\n",
    "**Note:** The request body size for the endpoint should not exceed 5 MB."
   ]
  },
  {
   "cell_type": "code",
   "execution_count": null,
   "metadata": {},
   "outputs": [],
   "source": [
    "import pandas as pd\n",
    "import json\n",
    "\n",
    "inputData = pd.read_csv('https://s3.amazonaws.com/sagemaker-sample-datasets/GeoFence/InputData/latLon.csv')\n",
    "inputData.to_json('./sampleInput.json', orient='split')\n",
    "\n",
    "\n",
    "fences = [[\"GeofenceP\", \"polygon\", [[34.68642, -82.83561], [34.68635, -82.83546], [34.68611, -82.83558], [34.68616, -82.83575]],[\"GeofenceR\", \"ring\", [ 34.68605,\n",
    "-82.83617], 4]]]\n",
    "\n",
    "with open('./sampleInput.json', 'r') as f:\n",
    "    finalInputData = json.loads(f.read())\n",
    "finalInputData['fences'] = fences\n",
    "del(finalInputData['index'])\n",
    "\n",
    "with open('./sampleInput.json', 'w') as f:\n",
    "    f.write(json.dumps(finalInputData))\n",
    "\n",
    "#inputData.head(10)\n",
    "finalInputData"
   ]
  },
  {
   "cell_type": "markdown",
   "metadata": {},
   "source": [
    " "
   ]
  },
  {
   "cell_type": "markdown",
   "metadata": {},
   "source": [
    "## 3. Using Endpoint\n",
    "\n",
    "### 3.1. Creating Model\n",
    "To create a model, import boto3, sagemaker and get the image name of the model "
   ]
  },
  {
   "cell_type": "code",
   "execution_count": null,
   "metadata": {},
   "outputs": [],
   "source": [
    "import boto3\n",
    "import sagemaker\n",
    "role = sagemaker.get_execution_role()\n",
    "smmp = boto3.client('sagemakermp')\n",
    "modelName='<Input Model Name>'\n",
    "modelArn = 'Paste Model ARN>'\n",
    "createHeatIndexResponse = smmp.create_model(ModelName=modelName,\\\n",
    "                             Containers=[{'ModelPackageName': modelArn}],\\\n",
    "                             ExecutionRoleArn=role,\\\n",
    "                             EnableNetworkIsolation=True )"
   ]
  },
  {
   "cell_type": "markdown",
   "metadata": {},
   "source": [
    "### 3.2. Creating Endpoint Config\n"
   ]
  },
  {
   "cell_type": "code",
   "execution_count": null,
   "metadata": {},
   "outputs": [],
   "source": [
    "configName ='<Input Configuration Name>'\n",
    "instanceType = '<Input Instance Type>'\n",
    "createHeatIndexEndpointConfig = smmp.create_endpoint_config(EndpointConfigName = configName, ProductionVariants = [{'InstanceType':instanceType, 'InitialInstanceCount':1, 'ModelName':modelName, 'VariantName':'xyz'}])"
   ]
  },
  {
   "cell_type": "markdown",
   "metadata": {},
   "source": [
    "### 3.3. Creating Endpoint"
   ]
  },
  {
   "cell_type": "code",
   "execution_count": null,
   "metadata": {},
   "outputs": [],
   "source": [
    "endpointName = '<Input Endpoint Name>'\n",
    "createHeatIndexEndpoint = smmp.create_endpoint(EndpointName = endpointName, EndpointConfigName = configName)"
   ]
  },
  {
   "cell_type": "markdown",
   "metadata": {},
   "source": [
    "### 3.4. Invoking Endpoint"
   ]
  },
  {
   "cell_type": "code",
   "execution_count": null,
   "metadata": {},
   "outputs": [],
   "source": [
    "runtime = boto3.Session().client('runtime.sagemaker')\n",
    "\n",
    "#Reading Input Data \n",
    "with open('./sampleInput.json', 'rb') as f:\n",
    "    payload = json.loads(f.read())\n",
    "\n",
    "response = runtime.invoke_endpoint(EndpointName = endpointName, ContentType = 'application/json', Body = json.dumps(payload))\n",
    "result = response['Body'].read().decode()\n",
    "\n",
    "#Writing Output Data \n",
    "import json\n",
    "with open('sampleOutput.json','w') as f:\n",
    "    f.write(json.dumps(json.loads(result)))"
   ]
  },
  {
   "cell_type": "markdown",
   "metadata": {},
   "source": [
    "### 3.5. Deleting the Endpoint - Optional\n",
    "\n",
    "If you're ready to be done with this notebook, please run the delete_endpoint line in the cell below.  This will remove the hosted endpoint you created and avoid any charges from a stray instance being left on."
   ]
  },
  {
   "cell_type": "code",
   "execution_count": null,
   "metadata": {},
   "outputs": [],
   "source": [
    "sagemaker.Session().delete_endpoint(endpointName)"
   ]
  },
  {
   "cell_type": "markdown",
   "metadata": {},
   "source": [
    " "
   ]
  },
  {
   "cell_type": "markdown",
   "metadata": {},
   "source": [
    "## 4. Using Batch Transform Job\n",
    "\n",
    "Refer the below link for how to use batch transform job for getting inferences from a model\n",
    "[sagemaker batch transform job](https://docs.aws.amazon.com/sagemaker/latest/dg/ex1-batch-transform.html#ex1-batch-transform-console)"
   ]
  },
  {
   "cell_type": "code",
   "execution_count": null,
   "metadata": {},
   "outputs": [],
   "source": [
    "import boto3\n",
    "import sagemaker\n",
    "\n",
    "inputLocation = '<S3 location for Input Data>'\n",
    "outputLocation = '<S3 location for Output Data>'\n",
    "\n",
    "jobName = '<Input Job Name>'\n",
    "modelName = '<Input Model Name>'\n",
    "instanceType = '<Input Instance Type>'\n",
    "\n",
    "# Initialize the transformer object\n",
    "transformer =sagemaker.transformer.Transformer(base_transform_job_name = jobName, model_name = modelName, instance_count=1, instance_type = instanceType, output_path = outputLocation)\n",
    "\n",
    "# To start a transform job:\n",
    "transformer.transform(inputLocation, content_type='application/json', split_type='None')\n",
    "\n",
    "# Then wait until transform job is completed\n",
    "transformer.wait() \n"
   ]
  },
  {
   "cell_type": "markdown",
   "metadata": {},
   "source": [
    " "
   ]
  },
  {
   "cell_type": "markdown",
   "metadata": {},
   "source": [
    "## 5. Model Output"
   ]
  },
  {
   "cell_type": "code",
   "execution_count": null,
   "metadata": {},
   "outputs": [],
   "source": [
    "import json\n",
    "with open(\"./sampleOutput.json\",\"r\") as f:\n",
    "    sampleResponse =json.loads(f.read())\n",
    "sampleResponse"
   ]
  },
  {
   "cell_type": "markdown",
   "metadata": {},
   "source": [
    " "
   ]
  }
 ],
 "metadata": {
  "kernelspec": {
   "display_name": "conda_python3",
   "language": "python",
   "name": "conda_python3"
  },
  "language_info": {
   "codemirror_mode": {
    "name": "ipython",
    "version": 3
   },
   "file_extension": ".py",
   "mimetype": "text/x-python",
   "name": "python",
   "nbconvert_exporter": "python",
   "pygments_lexer": "ipython3",
   "version": "3.6.5"
  }
 },
 "nbformat": 4,
 "nbformat_minor": 2
}
